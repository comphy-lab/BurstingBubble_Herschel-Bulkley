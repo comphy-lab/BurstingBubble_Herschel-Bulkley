{
 "cells": [
  {
   "cell_type": "markdown",
   "metadata": {},
   "source": [
    "# Reverse engineer to fix bug\n",
    "Relevant issue: https://github.com/comphy-lab/BurstingBubble_Herschel-Bulkley/issues/1\n",
    "\n",
    "The basilisk script needs the points to be sorted such that the first point is the south pole of the bubble cavity then you walk along the liquid-gas interface towards the bubble cap and then join to the far field liquid-gas interface (which is a straight line). \n",
    "\n",
    "![sortIndex](sortIndex.png)"
   ]
  },
  {
   "cell_type": "code",
   "execution_count": 3,
   "metadata": {},
   "outputs": [],
   "source": [
    "import pandas as pd\n",
    "import numpy as np\n",
    "import matplotlib.pyplot as plt\n",
    "\n",
    "FigureWidth = 3.375\n",
    "factor = 3\n",
    "# Set global parameters\n",
    "params = {\n",
    "          'lines.linewidth': 3,\n",
    "          'axes.labelsize': int(9*factor),\n",
    "          'legend.fontsize': int(6.5*factor),\n",
    "          'xtick.labelsize': int(9*factor),\n",
    "          'ytick.labelsize': int(9*factor),\n",
    "          'text.usetex': True,\n",
    "          'font.family': 'serif'}\n",
    "plt.rcParams.update(params)\n",
    "plt.rcParams['text.latex.preamble'] = r\"\\usepackage{amsmath}\"\n",
    "\n",
    "def prepare_plot(params):\n",
    "    fig, ax = plt.subplots(figsize=(FigureWidth*(factor+1), FigureWidth*(factor+1)/2))\n",
    "    ax.set_xlim(params[\"Rmin\"], params[\"Rmax\"])\n",
    "    ax.set_ylim(params[\"Zmin\"], params[\"Zmax\"])\n",
    "    ax.set_xlabel(r'$r/R_0$')\n",
    "    ax.set_ylabel(r'$z/R_0$')\n",
    "    ax.set_aspect('equal')\n",
    "    return fig, ax"
   ]
  },
  {
   "cell_type": "code",
   "execution_count": null,
   "metadata": {},
   "outputs": [],
   "source": [
    "df = pd.read_csv('Bo1.0000-buggy.dat', sep='\\s+', header=None, names=['z', 'r'])\n",
    "r = df['r'].values\n",
    "z = df['z'].values\n",
    "\n",
    "dz_dr = np.arctan2(np.gradient(z), np.gradient(r))\n",
    "sorted_indices = np.argsort(dz_dr)\n",
    "r_sorted = r[sorted_indices]\n",
    "z_sorted = z[sorted_indices]\n",
    "\n",
    "r, z = r_sorted, z_sorted\n",
    "\n",
    "ind = r > 2.0\n",
    "r2, z2 = r[ind], z[ind]\n",
    "indSort = np.argsort(r2)\n",
    "r2, z2 = r2[indSort], z2[indSort]\n",
    "\n",
    "ind = r < 2.0\n",
    "r3, z3 = r[ind], z[ind]\n",
    "\n",
    "r, z  = np.concatenate([r3, r2]), np.concatenate([z3, z2])\n",
    "\n",
    "# Define plotting parameters\n",
    "plt_params = {\n",
    "    \"Rmin\": 0.0, \"Rmax\": 8e0,\n",
    "    \"Zmin\": -1e0, \"Zmax\": 3e0\n",
    "}\n",
    "\n",
    "fig, ax = prepare_plot(plt_params)\n",
    "\n",
    "ax.plot(r, z, 'k-', lw=2)\n",
    "\n",
    "ax.plot(r2, z2, 'b.')\n",
    "ax.plot(r3, z3, 'r.')\n",
    "\n",
    "df = pd.DataFrame({'z': z, 'r': r})\n",
    "\n",
    "df.to_csv('Bo1.0000-buggy_fixed.dat', index=False, sep=' ', header=False)\n",
    "\n",
    "plt.show()"
   ]
  },
  {
   "cell_type": "markdown",
   "metadata": {},
   "source": [
    "# Note:\n",
    "\n",
    "Although the above code fixes the bug in [Bo1.0000-buggy.dat](Bo1.0000-buggy.dat), it would be better to ensure that the points are sorted as per the image below.\n",
    "\n",
    "![sortIndex](sortIndex.png)\n",
    "\n",
    "If not, then one would need to reverse engineer (like the code snippet above) to fix the sorting for each case.\n"
   ]
  }
 ],
 "metadata": {
  "kernelspec": {
   "display_name": "base",
   "language": "python",
   "name": "python3"
  },
  "language_info": {
   "codemirror_mode": {
    "name": "ipython",
    "version": 3
   },
   "file_extension": ".py",
   "mimetype": "text/x-python",
   "name": "python",
   "nbconvert_exporter": "python",
   "pygments_lexer": "ipython3",
   "version": "3.11.8"
  }
 },
 "nbformat": 4,
 "nbformat_minor": 2
}
